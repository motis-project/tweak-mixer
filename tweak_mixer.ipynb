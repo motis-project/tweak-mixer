{
 "cells": [
  {
   "cell_type": "markdown",
   "id": "8786ecad",
   "metadata": {},
   "source": [
    "The goal of this notebook is to find parameters for the MOTIS ODM Mixer that satisfy the requirements specified by the respective public transit provider."
   ]
  },
  {
   "cell_type": "code",
   "execution_count": 1,
   "id": "de992c0b",
   "metadata": {},
   "outputs": [],
   "source": [
    "# Setup\n",
    "\n",
    "import os\n",
    "import subprocess\n",
    "from violations import violations\n",
    "from vis import vis\n",
    "\n",
    "motis = \"/home/mority/code/motis/cmake-build-release-gcc-14/motis\""
   ]
  },
  {
   "cell_type": "code",
   "execution_count": 2,
   "id": "ca58d411",
   "metadata": {},
   "outputs": [],
   "source": [
    "# Configure mixer\n",
    "\n",
    "cfg = \\\n",
    "\"\"\"{\n",
    "    \"direct_taxi_penalty\": 220.0,\n",
    "    \"max_distance\": 90,\n",
    "    \"walk_cost\": [[0,1],[15,10]],\n",
    "    \"taxi_cost\": [[0,35],[1,12]],\n",
    "    \"transfer_cost\": [[0,10]]\n",
    "}\"\"\"\n",
    "with open(\"mixer.json\",\"w\") as f:\n",
    "    f.write(cfg)\n",
    "cfg_path = os.path.abspath(\"mixer.json\")"
   ]
  },
  {
   "cell_type": "code",
   "execution_count": 3,
   "id": "306b13ce",
   "metadata": {},
   "outputs": [],
   "source": [
    "# Mix test input\n",
    "\n",
    "for e in os.listdir(\"in\"):\n",
    "    in_path = os.path.join(\"in\", e)\n",
    "    if os.path.isdir(in_path):\n",
    "        out_path = os.path.join(\"out\", e)\n",
    "        os.makedirs(out_path, exist_ok=True)\n",
    "        subprocess.run(motis + \" mixer -c \" + cfg_path + \" -i \" + os.path.join(in_path, \"journeys.csv\") + \" -o \" + out_path, shell=True)"
   ]
  },
  {
   "cell_type": "code",
   "execution_count": 4,
   "id": "9d40c806",
   "metadata": {},
   "outputs": [
    {
     "name": "stdout",
     "output_type": "stream",
     "text": [
      "below_threshold: False, journeys: Pandas(Index=0, departure='2025-06-16 10:10', center='2025-06-16 10:15', arrival='2025-06-16 10:20', travel_time='00:10.0', transfers=0, odm_time='00:10.0', cost=363)\n",
      "below_threshold: False, journeys: Pandas(Index=1, departure='2025-06-16 10:17', center='2025-06-16 10:22', arrival='2025-06-16 10:27', travel_time='00:10.0', transfers=0, odm_time='00:10.0', cost=363)\n",
      "below_threshold: False, journeys: Pandas(Index=2, departure='2025-06-16 10:43', center='2025-06-16 10:48', arrival='2025-06-16 10:53', travel_time='00:10.0', transfers=0, odm_time='00:10.0', cost=363)\n",
      "below_threshold: False, journeys: Pandas(Index=3, departure='2025-06-16 10:43', center='2025-06-16 10:51', arrival='2025-06-16 11:00', travel_time='00:17.0', transfers=1, odm_time='00:04.0', cost=94)\n",
      "below_threshold: False, journeys: Pandas(Index=4, departure='2025-06-16 10:50', center='2025-06-16 10:55', arrival='2025-06-16 11:00', travel_time='00:10.0', transfers=0, odm_time='00:10.0', cost=363)\n",
      "below_threshold: False, journeys: Pandas(Index=5, departure='2025-06-16 11:00', center='2025-06-16 11:05', arrival='2025-06-16 11:10', travel_time='00:10.0', transfers=0, odm_time='00:10.0', cost=363)\n"
     ]
    },
    {
     "name": "stderr",
     "output_type": "stream",
     "text": [
      "/usr/lib/python3/dist-packages/_plotly_utils/basevalidators.py:105: FutureWarning:\n",
      "\n",
      "The behavior of DatetimeProperties.to_pydatetime is deprecated, in a future version this will return a Series containing python datetime objects instead of an ndarray. To retain the old behavior, call `np.array` on the result\n",
      "\n"
     ]
    },
    {
     "data": {
      "application/vnd.plotly.v1+json": {
       "config": {
        "plotlyServerURL": "https://plot.ly"
       },
       "data": [
        {
         "line": {
          "color": "gray"
         },
         "name": "Cost Threshold",
         "type": "scatter",
         "x": [
          "2025-06-16T12:10:00+02:00",
          "2025-06-16T12:11:00+02:00",
          "2025-06-16T12:12:00+02:00",
          "2025-06-16T12:13:00+02:00",
          "2025-06-16T12:14:00+02:00",
          "2025-06-16T12:15:00+02:00",
          "2025-06-16T12:16:00+02:00",
          "2025-06-16T12:17:00+02:00",
          "2025-06-16T12:18:00+02:00",
          "2025-06-16T12:19:00+02:00",
          "2025-06-16T12:20:00+02:00",
          "2025-06-16T12:21:00+02:00",
          "2025-06-16T12:22:00+02:00",
          "2025-06-16T12:23:00+02:00",
          "2025-06-16T12:24:00+02:00",
          "2025-06-16T12:25:00+02:00",
          "2025-06-16T12:26:00+02:00",
          "2025-06-16T12:27:00+02:00",
          "2025-06-16T12:28:00+02:00",
          "2025-06-16T12:29:00+02:00",
          "2025-06-16T12:30:00+02:00",
          "2025-06-16T12:31:00+02:00",
          "2025-06-16T12:32:00+02:00",
          "2025-06-16T12:33:00+02:00",
          "2025-06-16T12:34:00+02:00",
          "2025-06-16T12:35:00+02:00",
          "2025-06-16T12:36:00+02:00",
          "2025-06-16T12:37:00+02:00",
          "2025-06-16T12:38:00+02:00",
          "2025-06-16T12:39:00+02:00",
          "2025-06-16T12:40:00+02:00",
          "2025-06-16T12:41:00+02:00",
          "2025-06-16T12:42:00+02:00",
          "2025-06-16T12:43:00+02:00",
          "2025-06-16T12:44:00+02:00",
          "2025-06-16T12:45:00+02:00",
          "2025-06-16T12:46:00+02:00",
          "2025-06-16T12:47:00+02:00",
          "2025-06-16T12:48:00+02:00",
          "2025-06-16T12:49:00+02:00",
          "2025-06-16T12:50:00+02:00",
          "2025-06-16T12:51:00+02:00",
          "2025-06-16T12:52:00+02:00",
          "2025-06-16T12:53:00+02:00",
          "2025-06-16T12:54:00+02:00",
          "2025-06-16T12:55:00+02:00",
          "2025-06-16T12:56:00+02:00",
          "2025-06-16T12:57:00+02:00",
          "2025-06-16T12:58:00+02:00",
          "2025-06-16T12:59:00+02:00",
          "2025-06-16T13:00:00+02:00",
          "2025-06-16T13:01:00+02:00",
          "2025-06-16T13:02:00+02:00",
          "2025-06-16T13:03:00+02:00",
          "2025-06-16T13:04:00+02:00",
          "2025-06-16T13:05:00+02:00",
          "2025-06-16T13:06:00+02:00",
          "2025-06-16T13:07:00+02:00",
          "2025-06-16T13:08:00+02:00",
          "2025-06-16T13:09:00+02:00"
         ],
         "y": [
          56.37777777777778,
          55.9,
          55.42222222222222,
          54.94444444444444,
          54.46666666666666,
          53.98888888888889,
          53.51111111111111,
          53.03333333333334,
          52.55555555555556,
          52.077777777777776,
          51.6,
          51.12222222222222,
          50.644444444444446,
          50.16666666666667,
          49.68888888888888,
          49.21111111111111,
          48.73333333333333,
          48.25555555555555,
          47.77777777777778,
          47.3,
          46.822222222222216,
          46.34444444444444,
          45.86666666666667,
          45.38888888888889,
          44.91111111111111,
          44.43333333333334,
          43.95555555555555,
          43.477777777777774,
          43,
          43.477777777777774,
          43.95555555555555,
          44.43333333333334,
          44.91111111111111,
          45.38888888888889,
          45.86666666666667,
          46.34444444444444,
          46.822222222222216,
          47.3,
          47.77777777777778,
          48.25555555555555,
          48.73333333333333,
          49.21111111111111,
          49.68888888888888,
          50.16666666666667,
          50.644444444444446,
          51.12222222222222,
          51.6,
          52.077777777777776,
          52.55555555555556,
          53.03333333333334,
          53.51111111111111,
          53.98888888888889,
          54.46666666666666,
          54.94444444444444,
          55.42222222222222,
          55.9,
          56.37777777777778,
          56.855555555555554,
          57.33333333333333,
          57.81111111111112
         ]
        },
        {
         "customdata": [
          [
           "2025-06-16T12:17:00+02:00",
           "2025-06-16T13:00:00+02:00",
           "00:43.0",
           0,
           43
          ]
         ],
         "hovertemplate": "<b>Departure</b>: %{customdata[0]}<br><b>Arrival</b>: %{customdata[1]}<br><b>Travel time</b>: %{customdata[2]}<br><b>Transfers</b>: %{customdata[3]}<br><b>Cost</b>: %{customdata[4]}",
         "marker": {
          "color": "blue"
         },
         "mode": "markers",
         "name": "PT",
         "type": "scatter",
         "x": [
          "2025-06-16T12:38:00+02:00"
         ],
         "y": [
          43
         ]
        },
        {
         "hoverinfo": "none",
         "marker": {
          "color": "blue",
          "symbol": 142
         },
         "mode": "markers",
         "showlegend": false,
         "type": "scatter",
         "x": [
          "2025-06-16T12:17:00+02:00"
         ],
         "y": [
          43
         ]
        },
        {
         "hoverinfo": "none",
         "marker": {
          "color": "blue",
          "symbol": 142
         },
         "mode": "markers",
         "showlegend": false,
         "type": "scatter",
         "x": [
          "2025-06-16T13:00:00+02:00"
         ],
         "y": [
          43
         ]
        },
        {
         "customdata": [
          [
           "2025-06-16T12:10:00+02:00",
           "2025-06-16T12:20:00+02:00",
           "00:10.0",
           0,
           "00:10.0",
           363
          ],
          [
           "2025-06-16T12:17:00+02:00",
           "2025-06-16T12:27:00+02:00",
           "00:10.0",
           0,
           "00:10.0",
           363
          ],
          [
           "2025-06-16T12:43:00+02:00",
           "2025-06-16T12:53:00+02:00",
           "00:10.0",
           0,
           "00:10.0",
           363
          ],
          [
           "2025-06-16T12:43:00+02:00",
           "2025-06-16T13:00:00+02:00",
           "00:17.0",
           1,
           "00:04.0",
           94
          ],
          [
           "2025-06-16T12:50:00+02:00",
           "2025-06-16T13:00:00+02:00",
           "00:10.0",
           0,
           "00:10.0",
           363
          ],
          [
           "2025-06-16T13:00:00+02:00",
           "2025-06-16T13:10:00+02:00",
           "00:10.0",
           0,
           "00:10.0",
           363
          ]
         ],
         "hovertemplate": "<b>Departure</b>: %{customdata[0]}<br><b>Arrival</b>: %{customdata[1]}<br><b>Travel time</b>: %{customdata[2]}<br><b>Transfers</b>: %{customdata[3]}<br><b>ODM Time</b>: %{customdata[4]}<br><b>Cost</b>: %{customdata[5]}",
         "marker": {
          "color": "orange"
         },
         "mode": "markers",
         "name": "ODM",
         "type": "scatter",
         "x": [
          "2025-06-16T12:15:00+02:00",
          "2025-06-16T12:22:00+02:00",
          "2025-06-16T12:48:00+02:00",
          "2025-06-16T12:51:00+02:00",
          "2025-06-16T12:55:00+02:00",
          "2025-06-16T13:05:00+02:00"
         ],
         "y": [
          363,
          363,
          363,
          94,
          363,
          363
         ]
        },
        {
         "hoverinfo": "none",
         "marker": {
          "color": "orange",
          "symbol": 142
         },
         "mode": "markers",
         "showlegend": false,
         "type": "scatter",
         "x": [
          "2025-06-16T12:10:00+02:00",
          "2025-06-16T12:17:00+02:00",
          "2025-06-16T12:43:00+02:00",
          "2025-06-16T12:43:00+02:00",
          "2025-06-16T12:50:00+02:00",
          "2025-06-16T13:00:00+02:00"
         ],
         "y": [
          363,
          363,
          363,
          94,
          363,
          363
         ]
        },
        {
         "hoverinfo": "none",
         "marker": {
          "color": "orange",
          "symbol": 142
         },
         "mode": "markers",
         "showlegend": false,
         "type": "scatter",
         "x": [
          "2025-06-16T12:20:00+02:00",
          "2025-06-16T12:27:00+02:00",
          "2025-06-16T12:53:00+02:00",
          "2025-06-16T13:00:00+02:00",
          "2025-06-16T13:00:00+02:00",
          "2025-06-16T13:10:00+02:00"
         ],
         "y": [
          363,
          363,
          363,
          94,
          363,
          363
         ]
        }
       ],
       "layout": {
        "legend": {
         "orientation": "h",
         "x": 1,
         "xanchor": "right",
         "y": 1.15
        },
        "shapes": [
         {
          "line": {
           "color": "blue",
           "width": 1
          },
          "type": "line",
          "x0": "2025-06-16T12:17:00+02:00",
          "x1": "2025-06-16T13:00:00+02:00",
          "y0": 43,
          "y1": 43
         },
         {
          "line": {
           "color": "orange",
           "width": 1
          },
          "type": "line",
          "x0": "2025-06-16T12:10:00+02:00",
          "x1": "2025-06-16T12:20:00+02:00",
          "y0": 363,
          "y1": 363
         },
         {
          "line": {
           "color": "orange",
           "width": 1
          },
          "type": "line",
          "x0": "2025-06-16T12:17:00+02:00",
          "x1": "2025-06-16T12:27:00+02:00",
          "y0": 363,
          "y1": 363
         },
         {
          "line": {
           "color": "orange",
           "width": 1
          },
          "type": "line",
          "x0": "2025-06-16T12:43:00+02:00",
          "x1": "2025-06-16T12:53:00+02:00",
          "y0": 363,
          "y1": 363
         },
         {
          "line": {
           "color": "orange",
           "width": 1
          },
          "type": "line",
          "x0": "2025-06-16T12:43:00+02:00",
          "x1": "2025-06-16T13:00:00+02:00",
          "y0": 94,
          "y1": 94
         },
         {
          "line": {
           "color": "orange",
           "width": 1
          },
          "type": "line",
          "x0": "2025-06-16T12:50:00+02:00",
          "x1": "2025-06-16T13:00:00+02:00",
          "y0": 363,
          "y1": 363
         },
         {
          "line": {
           "color": "orange",
           "width": 1
          },
          "type": "line",
          "x0": "2025-06-16T13:00:00+02:00",
          "x1": "2025-06-16T13:10:00+02:00",
          "y0": 363,
          "y1": 363
         }
        ],
        "template": {
         "data": {
          "bar": [
           {
            "error_x": {
             "color": "#2a3f5f"
            },
            "error_y": {
             "color": "#2a3f5f"
            },
            "marker": {
             "line": {
              "color": "#E5ECF6",
              "width": 0.5
             },
             "pattern": {
              "fillmode": "overlay",
              "size": 10,
              "solidity": 0.2
             }
            },
            "type": "bar"
           }
          ],
          "barpolar": [
           {
            "marker": {
             "line": {
              "color": "#E5ECF6",
              "width": 0.5
             },
             "pattern": {
              "fillmode": "overlay",
              "size": 10,
              "solidity": 0.2
             }
            },
            "type": "barpolar"
           }
          ],
          "carpet": [
           {
            "aaxis": {
             "endlinecolor": "#2a3f5f",
             "gridcolor": "white",
             "linecolor": "white",
             "minorgridcolor": "white",
             "startlinecolor": "#2a3f5f"
            },
            "baxis": {
             "endlinecolor": "#2a3f5f",
             "gridcolor": "white",
             "linecolor": "white",
             "minorgridcolor": "white",
             "startlinecolor": "#2a3f5f"
            },
            "type": "carpet"
           }
          ],
          "choropleth": [
           {
            "colorbar": {
             "outlinewidth": 0,
             "ticks": ""
            },
            "type": "choropleth"
           }
          ],
          "contour": [
           {
            "colorbar": {
             "outlinewidth": 0,
             "ticks": ""
            },
            "colorscale": [
             [
              0,
              "#0d0887"
             ],
             [
              0.1111111111111111,
              "#46039f"
             ],
             [
              0.2222222222222222,
              "#7201a8"
             ],
             [
              0.3333333333333333,
              "#9c179e"
             ],
             [
              0.4444444444444444,
              "#bd3786"
             ],
             [
              0.5555555555555556,
              "#d8576b"
             ],
             [
              0.6666666666666666,
              "#ed7953"
             ],
             [
              0.7777777777777778,
              "#fb9f3a"
             ],
             [
              0.8888888888888888,
              "#fdca26"
             ],
             [
              1,
              "#f0f921"
             ]
            ],
            "type": "contour"
           }
          ],
          "contourcarpet": [
           {
            "colorbar": {
             "outlinewidth": 0,
             "ticks": ""
            },
            "type": "contourcarpet"
           }
          ],
          "heatmap": [
           {
            "colorbar": {
             "outlinewidth": 0,
             "ticks": ""
            },
            "colorscale": [
             [
              0,
              "#0d0887"
             ],
             [
              0.1111111111111111,
              "#46039f"
             ],
             [
              0.2222222222222222,
              "#7201a8"
             ],
             [
              0.3333333333333333,
              "#9c179e"
             ],
             [
              0.4444444444444444,
              "#bd3786"
             ],
             [
              0.5555555555555556,
              "#d8576b"
             ],
             [
              0.6666666666666666,
              "#ed7953"
             ],
             [
              0.7777777777777778,
              "#fb9f3a"
             ],
             [
              0.8888888888888888,
              "#fdca26"
             ],
             [
              1,
              "#f0f921"
             ]
            ],
            "type": "heatmap"
           }
          ],
          "heatmapgl": [
           {
            "colorbar": {
             "outlinewidth": 0,
             "ticks": ""
            },
            "colorscale": [
             [
              0,
              "#0d0887"
             ],
             [
              0.1111111111111111,
              "#46039f"
             ],
             [
              0.2222222222222222,
              "#7201a8"
             ],
             [
              0.3333333333333333,
              "#9c179e"
             ],
             [
              0.4444444444444444,
              "#bd3786"
             ],
             [
              0.5555555555555556,
              "#d8576b"
             ],
             [
              0.6666666666666666,
              "#ed7953"
             ],
             [
              0.7777777777777778,
              "#fb9f3a"
             ],
             [
              0.8888888888888888,
              "#fdca26"
             ],
             [
              1,
              "#f0f921"
             ]
            ],
            "type": "heatmapgl"
           }
          ],
          "histogram": [
           {
            "marker": {
             "pattern": {
              "fillmode": "overlay",
              "size": 10,
              "solidity": 0.2
             }
            },
            "type": "histogram"
           }
          ],
          "histogram2d": [
           {
            "colorbar": {
             "outlinewidth": 0,
             "ticks": ""
            },
            "colorscale": [
             [
              0,
              "#0d0887"
             ],
             [
              0.1111111111111111,
              "#46039f"
             ],
             [
              0.2222222222222222,
              "#7201a8"
             ],
             [
              0.3333333333333333,
              "#9c179e"
             ],
             [
              0.4444444444444444,
              "#bd3786"
             ],
             [
              0.5555555555555556,
              "#d8576b"
             ],
             [
              0.6666666666666666,
              "#ed7953"
             ],
             [
              0.7777777777777778,
              "#fb9f3a"
             ],
             [
              0.8888888888888888,
              "#fdca26"
             ],
             [
              1,
              "#f0f921"
             ]
            ],
            "type": "histogram2d"
           }
          ],
          "histogram2dcontour": [
           {
            "colorbar": {
             "outlinewidth": 0,
             "ticks": ""
            },
            "colorscale": [
             [
              0,
              "#0d0887"
             ],
             [
              0.1111111111111111,
              "#46039f"
             ],
             [
              0.2222222222222222,
              "#7201a8"
             ],
             [
              0.3333333333333333,
              "#9c179e"
             ],
             [
              0.4444444444444444,
              "#bd3786"
             ],
             [
              0.5555555555555556,
              "#d8576b"
             ],
             [
              0.6666666666666666,
              "#ed7953"
             ],
             [
              0.7777777777777778,
              "#fb9f3a"
             ],
             [
              0.8888888888888888,
              "#fdca26"
             ],
             [
              1,
              "#f0f921"
             ]
            ],
            "type": "histogram2dcontour"
           }
          ],
          "mesh3d": [
           {
            "colorbar": {
             "outlinewidth": 0,
             "ticks": ""
            },
            "type": "mesh3d"
           }
          ],
          "parcoords": [
           {
            "line": {
             "colorbar": {
              "outlinewidth": 0,
              "ticks": ""
             }
            },
            "type": "parcoords"
           }
          ],
          "pie": [
           {
            "automargin": true,
            "type": "pie"
           }
          ],
          "scatter": [
           {
            "fillpattern": {
             "fillmode": "overlay",
             "size": 10,
             "solidity": 0.2
            },
            "type": "scatter"
           }
          ],
          "scatter3d": [
           {
            "line": {
             "colorbar": {
              "outlinewidth": 0,
              "ticks": ""
             }
            },
            "marker": {
             "colorbar": {
              "outlinewidth": 0,
              "ticks": ""
             }
            },
            "type": "scatter3d"
           }
          ],
          "scattercarpet": [
           {
            "marker": {
             "colorbar": {
              "outlinewidth": 0,
              "ticks": ""
             }
            },
            "type": "scattercarpet"
           }
          ],
          "scattergeo": [
           {
            "marker": {
             "colorbar": {
              "outlinewidth": 0,
              "ticks": ""
             }
            },
            "type": "scattergeo"
           }
          ],
          "scattergl": [
           {
            "marker": {
             "colorbar": {
              "outlinewidth": 0,
              "ticks": ""
             }
            },
            "type": "scattergl"
           }
          ],
          "scattermapbox": [
           {
            "marker": {
             "colorbar": {
              "outlinewidth": 0,
              "ticks": ""
             }
            },
            "type": "scattermapbox"
           }
          ],
          "scatterpolar": [
           {
            "marker": {
             "colorbar": {
              "outlinewidth": 0,
              "ticks": ""
             }
            },
            "type": "scatterpolar"
           }
          ],
          "scatterpolargl": [
           {
            "marker": {
             "colorbar": {
              "outlinewidth": 0,
              "ticks": ""
             }
            },
            "type": "scatterpolargl"
           }
          ],
          "scatterternary": [
           {
            "marker": {
             "colorbar": {
              "outlinewidth": 0,
              "ticks": ""
             }
            },
            "type": "scatterternary"
           }
          ],
          "surface": [
           {
            "colorbar": {
             "outlinewidth": 0,
             "ticks": ""
            },
            "colorscale": [
             [
              0,
              "#0d0887"
             ],
             [
              0.1111111111111111,
              "#46039f"
             ],
             [
              0.2222222222222222,
              "#7201a8"
             ],
             [
              0.3333333333333333,
              "#9c179e"
             ],
             [
              0.4444444444444444,
              "#bd3786"
             ],
             [
              0.5555555555555556,
              "#d8576b"
             ],
             [
              0.6666666666666666,
              "#ed7953"
             ],
             [
              0.7777777777777778,
              "#fb9f3a"
             ],
             [
              0.8888888888888888,
              "#fdca26"
             ],
             [
              1,
              "#f0f921"
             ]
            ],
            "type": "surface"
           }
          ],
          "table": [
           {
            "cells": {
             "fill": {
              "color": "#EBF0F8"
             },
             "line": {
              "color": "white"
             }
            },
            "header": {
             "fill": {
              "color": "#C8D4E3"
             },
             "line": {
              "color": "white"
             }
            },
            "type": "table"
           }
          ]
         },
         "layout": {
          "annotationdefaults": {
           "arrowcolor": "#2a3f5f",
           "arrowhead": 0,
           "arrowwidth": 1
          },
          "autotypenumbers": "strict",
          "coloraxis": {
           "colorbar": {
            "outlinewidth": 0,
            "ticks": ""
           }
          },
          "colorscale": {
           "diverging": [
            [
             0,
             "#8e0152"
            ],
            [
             0.1,
             "#c51b7d"
            ],
            [
             0.2,
             "#de77ae"
            ],
            [
             0.3,
             "#f1b6da"
            ],
            [
             0.4,
             "#fde0ef"
            ],
            [
             0.5,
             "#f7f7f7"
            ],
            [
             0.6,
             "#e6f5d0"
            ],
            [
             0.7,
             "#b8e186"
            ],
            [
             0.8,
             "#7fbc41"
            ],
            [
             0.9,
             "#4d9221"
            ],
            [
             1,
             "#276419"
            ]
           ],
           "sequential": [
            [
             0,
             "#0d0887"
            ],
            [
             0.1111111111111111,
             "#46039f"
            ],
            [
             0.2222222222222222,
             "#7201a8"
            ],
            [
             0.3333333333333333,
             "#9c179e"
            ],
            [
             0.4444444444444444,
             "#bd3786"
            ],
            [
             0.5555555555555556,
             "#d8576b"
            ],
            [
             0.6666666666666666,
             "#ed7953"
            ],
            [
             0.7777777777777778,
             "#fb9f3a"
            ],
            [
             0.8888888888888888,
             "#fdca26"
            ],
            [
             1,
             "#f0f921"
            ]
           ],
           "sequentialminus": [
            [
             0,
             "#0d0887"
            ],
            [
             0.1111111111111111,
             "#46039f"
            ],
            [
             0.2222222222222222,
             "#7201a8"
            ],
            [
             0.3333333333333333,
             "#9c179e"
            ],
            [
             0.4444444444444444,
             "#bd3786"
            ],
            [
             0.5555555555555556,
             "#d8576b"
            ],
            [
             0.6666666666666666,
             "#ed7953"
            ],
            [
             0.7777777777777778,
             "#fb9f3a"
            ],
            [
             0.8888888888888888,
             "#fdca26"
            ],
            [
             1,
             "#f0f921"
            ]
           ]
          },
          "colorway": [
           "#636efa",
           "#EF553B",
           "#00cc96",
           "#ab63fa",
           "#FFA15A",
           "#19d3f3",
           "#FF6692",
           "#B6E880",
           "#FF97FF",
           "#FECB52"
          ],
          "font": {
           "color": "#2a3f5f"
          },
          "geo": {
           "bgcolor": "white",
           "lakecolor": "white",
           "landcolor": "#E5ECF6",
           "showlakes": true,
           "showland": true,
           "subunitcolor": "white"
          },
          "hoverlabel": {
           "align": "left"
          },
          "hovermode": "closest",
          "mapbox": {
           "style": "light"
          },
          "paper_bgcolor": "white",
          "plot_bgcolor": "#E5ECF6",
          "polar": {
           "angularaxis": {
            "gridcolor": "white",
            "linecolor": "white",
            "ticks": ""
           },
           "bgcolor": "#E5ECF6",
           "radialaxis": {
            "gridcolor": "white",
            "linecolor": "white",
            "ticks": ""
           }
          },
          "scene": {
           "xaxis": {
            "backgroundcolor": "#E5ECF6",
            "gridcolor": "white",
            "gridwidth": 2,
            "linecolor": "white",
            "showbackground": true,
            "ticks": "",
            "zerolinecolor": "white"
           },
           "yaxis": {
            "backgroundcolor": "#E5ECF6",
            "gridcolor": "white",
            "gridwidth": 2,
            "linecolor": "white",
            "showbackground": true,
            "ticks": "",
            "zerolinecolor": "white"
           },
           "zaxis": {
            "backgroundcolor": "#E5ECF6",
            "gridcolor": "white",
            "gridwidth": 2,
            "linecolor": "white",
            "showbackground": true,
            "ticks": "",
            "zerolinecolor": "white"
           }
          },
          "shapedefaults": {
           "line": {
            "color": "#2a3f5f"
           }
          },
          "ternary": {
           "aaxis": {
            "gridcolor": "white",
            "linecolor": "white",
            "ticks": ""
           },
           "baxis": {
            "gridcolor": "white",
            "linecolor": "white",
            "ticks": ""
           },
           "bgcolor": "#E5ECF6",
           "caxis": {
            "gridcolor": "white",
            "linecolor": "white",
            "ticks": ""
           }
          },
          "title": {
           "x": 0.05
          },
          "xaxis": {
           "automargin": true,
           "gridcolor": "white",
           "linecolor": "white",
           "ticks": "",
           "title": {
            "standoff": 15
           },
           "zerolinecolor": "white",
           "zerolinewidth": 2
          },
          "yaxis": {
           "automargin": true,
           "gridcolor": "white",
           "linecolor": "white",
           "ticks": "",
           "title": {
            "standoff": 15
           },
           "zerolinecolor": "white",
           "zerolinewidth": 2
          }
         }
        },
        "title": {
         "font": {
          "size": 13
         },
         "text": "pt_taxi_no_direct",
         "xanchor": "left",
         "y": 0.85
        }
       }
      }
     },
     "metadata": {},
     "output_type": "display_data"
    }
   ],
   "source": [
    "# Visualize results\n",
    "\n",
    "for e in os.listdir(\"in\"):\n",
    "    in_path = os.path.join(\"in\", e)\n",
    "    if os.path.isdir(in_path):\n",
    "        out_path = os.path.join(\"out\",e)\n",
    "        if not os.path.isdir(out_path):\n",
    "            print(\"No results for {}\".format(e))\n",
    "            continue\n",
    "        violations(e)\n",
    "        vis(e, os.path.join(out_path, \"cost_threshold.csv\"), os.path.join(out_path,\"pt_journeys.csv\"), os.path.join(out_path, \"odm_journeys.csv\"))"
   ]
  },
  {
   "cell_type": "markdown",
   "id": "36aba8d2",
   "metadata": {},
   "source": []
  }
 ],
 "metadata": {
  "kernelspec": {
   "display_name": "Python 3",
   "language": "python",
   "name": "python3"
  },
  "language_info": {
   "codemirror_mode": {
    "name": "ipython",
    "version": 3
   },
   "file_extension": ".py",
   "mimetype": "text/x-python",
   "name": "python",
   "nbconvert_exporter": "python",
   "pygments_lexer": "ipython3",
   "version": "3.12.3"
  }
 },
 "nbformat": 4,
 "nbformat_minor": 5
}
