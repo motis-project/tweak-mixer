{
 "cells": [
  {
   "cell_type": "markdown",
   "id": "8786ecad",
   "metadata": {},
   "source": [
    "The goal of this notebook is to find parameters for the MOTIS ODM Mixer that satisfy the requirements specified by the respective public transit provider."
   ]
  },
  {
   "cell_type": "code",
   "execution_count": null,
   "id": "de992c0b",
   "metadata": {},
   "outputs": [],
   "source": [
    "# Setup\n",
    "import os\n",
    "import subprocess\n",
    "from violations import violations\n",
    "from visualize import visualize\n",
    "\n",
    "motis = \"/home/mority/code/motis/cmake-build-release-gcc-14/motis\""
   ]
  },
  {
   "cell_type": "code",
   "execution_count": null,
   "id": "ca58d411",
   "metadata": {},
   "outputs": [],
   "source": [
    "# Configure mixer\n",
    "cfg = \\\n",
    "\"\"\"{\n",
    "    \"direct_taxi_penalty\": 60.0,\n",
    "    \"max_distance\": 60,\n",
    "    \"taxi_cost\": [[0,10],[1,4]],\n",
    "    \"transfer_cost\": [[0,10]]\n",
    "}\"\"\"\n",
    "with open(\"mixer.json\",\"w\") as f:\n",
    "    f.write(cfg)\n",
    "cfg_path = os.path.abspath(\"mixer.json\")"
   ]
  },
  {
   "cell_type": "code",
   "execution_count": null,
   "id": "306b13ce",
   "metadata": {},
   "outputs": [],
   "source": [
    "# Mix test input\n",
    "for cs in os.listdir(\"in\"):\n",
    "    in_path = os.path.join(\"in\", cs)\n",
    "    if os.path.isdir(in_path):\n",
    "        out_path = os.path.join(\"out\", cs)\n",
    "        os.makedirs(out_path, exist_ok=True)\n",
    "        subprocess.run(motis + \" mixer -c \" + cfg_path + \" -i \" + os.path.join(in_path, \"journeys.csv\") + \" -o \" + out_path, shell=True)"
   ]
  },
  {
   "cell_type": "code",
   "execution_count": null,
   "id": "2d19b213",
   "metadata": {},
   "outputs": [],
   "source": [
    "# Find required/forbidden violations and visualize connection sets\n",
    "for cs in os.listdir(\"in\"):\n",
    "    in_path = os.path.join(\"in\", cs)\n",
    "    if os.path.isdir(in_path):\n",
    "        out_path = os.path.join(\"out\",cs)\n",
    "        if not os.path.isdir(out_path):\n",
    "            print(\"No results for {}\".format(cs))\n",
    "            continue\n",
    "        if violations(cs):\n",
    "            visualize(cs)"
   ]
  },
  {
   "cell_type": "code",
   "execution_count": null,
   "id": "bca66876",
   "metadata": {},
   "outputs": [],
   "source": [
    "# correct number of transfers for mixed journeys, i.e., use pt and taxi\n",
    "# the change from/to taxi is not counted as transfer currently\n",
    "# therefore we need to increase the number of transfers for each journey that uses both pt and taxi\n",
    "\n",
    "import os\n",
    "import pandas as pd\n",
    "\n",
    "def to_time_types(journeys):\n",
    "    journeys[\"departure\"] = pd.to_datetime(journeys[\"departure\"], utc=True)\n",
    "    journeys[\"arrival\"] = pd.to_datetime(journeys[\"arrival\"], utc=True)\n",
    "    journeys[\"first_mile_duration\"] = journeys[\"first_mile_duration\"].apply(lambda x: pd.Timedelta(x, unit=\"m\"))\n",
    "    journeys[\"last_mile_duration\"] = journeys[\"last_mile_duration\"].apply(lambda x: pd.Timedelta(x,unit=\"m\"))\n",
    "\n",
    "\n",
    "def fix_mixed_journeys(journeys):\n",
    "    journeys[\"transfers\"] = journeys[\"transfers\"] + (\n",
    "        (\n",
    "            (journeys[\"first_mile_mode\"] == \"taxi\")\n",
    "            | (journeys[\"last_mile_mode\"] == \"taxi\")\n",
    "        )\n",
    "        & (\n",
    "            journeys[\"arrival\"] - journeys[\"departure\"]\n",
    "            != journeys[\"first_mile_duration\"]\n",
    "        )\n",
    "        & (\n",
    "            journeys[\"arrival\"] - journeys[\"departure\"]\n",
    "            != journeys[\"last_mile_duration\"]\n",
    "        )\n",
    "    ).apply(lambda x : 1 if x else 0)\n",
    "\n",
    "def reverse_to_time_types(journeys):\n",
    "    journeys[\"departure\"] = journeys[\"departure\"].dt.tz_localize(None)\n",
    "    journeys[\"arrival\"] = journeys[\"arrival\"].dt.tz_localize(None)\n",
    "    journeys[\"first_mile_duration\"] = journeys[\"first_mile_duration\"].apply(lambda x: x.components.minutes)\n",
    "    journeys[\"last_mile_duration\"] = journeys[\"last_mile_duration\"].apply(lambda x: x.components.minutes)\n",
    "\n",
    "for cs in os.listdir(\"in\"):\n",
    "    in_path = os.path.join(\"in\", cs)\n",
    "    if os.path.isdir(in_path):\n",
    "        journeys = pd.read_csv(\n",
    "            os.path.join(in_path, \"journeys.csv\"), skipinitialspace=True\n",
    "        )\n",
    "        forbidden = pd.read_csv(\n",
    "            os.path.join(in_path, \"forbidden.csv\"), skipinitialspace=True\n",
    "        )\n",
    "        required = pd.read_csv(\n",
    "            os.path.join(in_path, \"required.csv\"), skipinitialspace=True\n",
    "        )\n",
    "\n",
    "        to_time_types(journeys)\n",
    "        to_time_types(forbidden)\n",
    "        to_time_types(required)\n",
    "\n",
    "        fix_mixed_journeys(journeys)\n",
    "        fix_mixed_journeys(forbidden)\n",
    "        fix_mixed_journeys(required)\n",
    "\n",
    "        reverse_to_time_types(journeys)\n",
    "        reverse_to_time_types(forbidden)\n",
    "        reverse_to_time_types(required)\n",
    "\n",
    "        journeys.to_csv(os.path.join(in_path, \"journeys.csv\"))\n",
    "        forbidden.to_csv(os.path.join(in_path, \"forbidden.csv\"))\n",
    "        required.to_csv(os.path.join(in_path, \"required.csv\"))"
   ]
  }
 ],
 "metadata": {
  "kernelspec": {
   "display_name": "Python 3",
   "language": "python",
   "name": "python3"
  },
  "language_info": {
   "codemirror_mode": {
    "name": "ipython",
    "version": 3
   },
   "file_extension": ".py",
   "mimetype": "text/x-python",
   "name": "python",
   "nbconvert_exporter": "python",
   "pygments_lexer": "ipython3",
   "version": "3.12.3"
  }
 },
 "nbformat": 4,
 "nbformat_minor": 5
}
