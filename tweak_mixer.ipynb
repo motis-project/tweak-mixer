{
 "cells": [
  {
   "cell_type": "markdown",
   "id": "8786ecad",
   "metadata": {},
   "source": [
    "The goal of this notebook is to find parameters for the MOTIS ODM Mixer that satisfy the requirements specified by the respective public transit provider."
   ]
  },
  {
   "cell_type": "code",
   "execution_count": 1,
   "id": "de992c0b",
   "metadata": {},
   "outputs": [],
   "source": [
    "# Setup\n",
    "import os\n",
    "import subprocess\n",
    "from violations import violations\n",
    "from visualize import visualize\n",
    "\n",
    "motis = \"/home/mority/code/motis/cmake-build-release-gcc-14/motis\""
   ]
  },
  {
   "cell_type": "code",
   "execution_count": 2,
   "id": "ca58d411",
   "metadata": {},
   "outputs": [],
   "source": [
    "# Configure mixer\n",
    "cfg = \\\n",
    "\"\"\"{\n",
    "    \"direct_taxi_penalty\": 20.0,\n",
    "    \"pt_slope\": 2.2,\n",
    "    \"odm_slope\": 2.0,\n",
    "    \"taxi_cost\": [[0,20.6],[1,4.9]],\n",
    "    \"transfer_cost\": [[0,8.0]]\n",
    "}\"\"\"\n",
    "with open(\"mixer.json\",\"w\") as f:\n",
    "    f.write(cfg)\n",
    "cfg_path = os.path.abspath(\"mixer.json\")"
   ]
  },
  {
   "cell_type": "code",
   "execution_count": 3,
   "id": "306b13ce",
   "metadata": {},
   "outputs": [],
   "source": [
    "# Mix test input\n",
    "for cs in os.listdir(\"in\"):\n",
    "    in_path = os.path.join(\"in\", cs)\n",
    "    if os.path.isdir(in_path):\n",
    "        out_path = os.path.join(\"out\", cs)\n",
    "        os.makedirs(out_path, exist_ok=True)\n",
    "        subprocess.run(motis + \" mixer -c \" + cfg_path + \" -i \" + os.path.join(in_path, \"journeys.csv\") + \" -o \" + out_path, shell=True)"
   ]
  },
  {
   "cell_type": "code",
   "execution_count": null,
   "id": "2d19b213",
   "metadata": {},
   "outputs": [],
   "source": [
    "# Find required/forbidden violations and visualize connection sets\n",
    "for cs in os.listdir(\"in\"):\n",
    "    in_path = os.path.join(\"in\", cs)\n",
    "    if os.path.isdir(in_path):\n",
    "        out_path = os.path.join(\"out\",cs)\n",
    "        if not os.path.isdir(out_path):\n",
    "            print(\"No results for {}\".format(cs))\n",
    "            continue\n",
    "        if violations(cs):\n",
    "            visualize(cs)"
   ]
  }
 ],
 "metadata": {
  "kernelspec": {
   "display_name": "Python 3",
   "language": "python",
   "name": "python3"
  },
  "language_info": {
   "codemirror_mode": {
    "name": "ipython",
    "version": 3
   },
   "file_extension": ".py",
   "mimetype": "text/x-python",
   "name": "python",
   "nbconvert_exporter": "python",
   "pygments_lexer": "ipython3",
   "version": "3.12.3"
  }
 },
 "nbformat": 4,
 "nbformat_minor": 5
}
