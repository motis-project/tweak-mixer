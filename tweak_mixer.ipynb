{
 "cells": [
  {
   "cell_type": "markdown",
   "id": "8786ecad",
   "metadata": {},
   "source": [
    "The goal of this notebook is to find parameters for the MOTIS ODM Mixer that satisfy the requirements specified by the respective public transit provider."
   ]
  },
  {
   "cell_type": "markdown",
   "id": "8475e78e",
   "metadata": {},
   "source": [
    "## Setup"
   ]
  },
  {
   "cell_type": "code",
   "execution_count": null,
   "id": "de992c0b",
   "metadata": {},
   "outputs": [],
   "source": [
    "import os\n",
    "import subprocess\n",
    "\n",
    "motis = \"/home/mority/code/motis/cmake-build-release-gcc-14/motis\""
   ]
  },
  {
   "cell_type": "markdown",
   "id": "b189b60d",
   "metadata": {},
   "source": [
    "## Mixer config"
   ]
  },
  {
   "cell_type": "code",
   "execution_count": 26,
   "id": "ca58d411",
   "metadata": {},
   "outputs": [],
   "source": [
    "cfg = \\\n",
    "\"\"\"{\n",
    "    \"direct_taxi_penalty\": 220.0,\n",
    "    \"max_distance\": 90,\n",
    "    \"walk_cost\": [[0,1],[15,10]],\n",
    "    \"taxi_cost\": [[0,35],[1,12]],\n",
    "    \"transfer_cost\": [[0,10]]\n",
    "}\"\"\"\n",
    "with open(\"mixer.json\",\"w\") as f:\n",
    "    f.write(cfg)\n",
    "cfg_path = os.path.abspath(\"mixer.json\")"
   ]
  },
  {
   "cell_type": "markdown",
   "id": "f9337cc4",
   "metadata": {},
   "source": [
    "## Mix the input journey sets"
   ]
  },
  {
   "cell_type": "code",
   "execution_count": 25,
   "id": "306b13ce",
   "metadata": {},
   "outputs": [],
   "source": [
    "for e in os.listdir(\"in\"):\n",
    "    in_path = os.path.join(\"in\", e)\n",
    "    if os.path.isdir(in_path):\n",
    "        out_path = os.path.join(\"out\", e)\n",
    "        os.makedirs(out_path, exist_ok=True)\n",
    "        subprocess.run(motis + \" mixer -c \" + cfg_path + \" -i \" + os.path.join(in_path, \"journeys.csv\" + \" -o \" + out_path), shell=True)"
   ]
  }
 ],
 "metadata": {
  "kernelspec": {
   "display_name": "Python 3",
   "language": "python",
   "name": "python3"
  },
  "language_info": {
   "codemirror_mode": {
    "name": "ipython",
    "version": 3
   },
   "file_extension": ".py",
   "mimetype": "text/x-python",
   "name": "python",
   "nbconvert_exporter": "python",
   "pygments_lexer": "ipython3",
   "version": "3.12.3"
  }
 },
 "nbformat": 4,
 "nbformat_minor": 5
}
