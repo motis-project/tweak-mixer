{
 "cells": [
  {
   "cell_type": "markdown",
   "id": "8786ecad",
   "metadata": {},
   "source": [
    "The goal of this notebook is to set the parameters of the MOTIS ODM Mixer in accordance to the requirements specified by the respective public transit provider.\n",
    "\n",
    "First of all, setup motis:"
   ]
  },
  {
   "cell_type": "code",
   "execution_count": 8,
   "id": "5a731446",
   "metadata": {},
   "outputs": [
    {
     "data": {
      "text/plain": [
       "CompletedProcess(args='/home/mority/code/motis/cmake-build-release-gcc-14/motis import -d /home/mority/code/motis/cmake-build-release-gcc-14/data -c /home/mority/code/motis/cmake-build-release-gcc-14/config.yml', returncode=0)"
      ]
     },
     "execution_count": 8,
     "metadata": {},
     "output_type": "execute_result"
    }
   ],
   "source": [
    "motis_dir = \"/home/mority/code/motis/cmake-build-release-gcc-14/\"\n",
    "\n",
    "motis_config = \\\n",
    "\"\"\"server:\n",
    "  port: 6499\n",
    "osm: /home/mority/data/sachsen.osm.pbf\n",
    "timetable:\n",
    "  datasets:\n",
    "    timetable:\n",
    "      path: /home/mority/data/20250707_fahrplaene_gesamtdeutschland_gtfs.zip\n",
    "      default_bikes_allowed: false\n",
    "street_routing: true\n",
    "osr_footpath: false\n",
    "elevators: false\n",
    "geocoding: true\n",
    "reverse_geocoding: true\n",
    "odm:\n",
    "  url: http://localhost:5173\n",
    "  bounds: /home/mority/data/weisswasser.geojson\"\"\"\n",
    "\n",
    "with open(motis_dir + \"config.yml\", \"w\") as cfg:\n",
    "    cfg.write(motis_config)\n",
    "\n",
    "import subprocess\n",
    "subprocess.run(motis_dir + \"motis import -d \" + motis_dir + \"data \" + \"-c \" + motis_dir + \"config.yml\", shell=True)"
   ]
  },
  {
   "cell_type": "markdown",
   "id": "0c0d5595",
   "metadata": {},
   "source": [
    "Alright, let's setup prima:"
   ]
  },
  {
   "cell_type": "code",
   "execution_count": null,
   "id": "43ff02b3",
   "metadata": {},
   "outputs": [],
   "source": [
    "prima_dir = \"/home/mority/code/prima\""
   ]
  }
 ],
 "metadata": {
  "kernelspec": {
   "display_name": "Python 3",
   "language": "python",
   "name": "python3"
  },
  "language_info": {
   "codemirror_mode": {
    "name": "ipython",
    "version": 3
   },
   "file_extension": ".py",
   "mimetype": "text/x-python",
   "name": "python",
   "nbconvert_exporter": "python",
   "pygments_lexer": "ipython3",
   "version": "3.12.3"
  }
 },
 "nbformat": 4,
 "nbformat_minor": 5
}
